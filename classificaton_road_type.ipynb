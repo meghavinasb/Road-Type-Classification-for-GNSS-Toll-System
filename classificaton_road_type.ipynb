{
 "cells": [
  {
   "cell_type": "code",
   "execution_count": 9,
   "id": "c744b959-7f39-476f-8dbc-0ab11f86333b",
   "metadata": {},
   "outputs": [
    {
     "name": "stdout",
     "output_type": "stream",
     "text": [
      "         lat        lon  speed (m/s)  heading (degrees)  altitude (m)  \\\n",
      "0  12.937454  77.537027     7.851171          20.631712           918   \n",
      "1  12.995071  77.608380     7.409364          62.852346           924   \n",
      "2  12.973199  77.674589    27.187637          95.046190           904   \n",
      "3  12.959866  77.646445     7.486386         256.240060           907   \n",
      "4  12.915602  77.661312     8.158492         323.407899           906   \n",
      "\n",
      "      road_type  \n",
      "0  service_road  \n",
      "1  service_road  \n",
      "2       highway  \n",
      "3  service_road  \n",
      "4  service_road  \n",
      "Accuracy: 84.50%\n",
      "Classification Report:\n",
      "              precision    recall  f1-score   support\n",
      "\n",
      "     highway       0.76      1.00      0.86        98\n",
      "service_road       1.00      0.70      0.82       102\n",
      "\n",
      "    accuracy                           0.84       200\n",
      "   macro avg       0.88      0.85      0.84       200\n",
      "weighted avg       0.88      0.84      0.84       200\n",
      "\n",
      "Confusion Matrix:\n",
      "[[98  0]\n",
      " [31 71]]\n"
     ]
    }
   ],
   "source": [
    "# Import necessary libraries\n",
    "import pandas as pd\n",
    "from sklearn.model_selection import train_test_split\n",
    "from sklearn.preprocessing import StandardScaler\n",
    "from sklearn.svm import SVC\n",
    "from sklearn.metrics import accuracy_score, classification_report, confusion_matrix\n",
    "\n",
    "# Load the dataset (replace with your file path)\n",
    "data = pd.read_csv('synthetic_road_data_highway_service.csv')\n",
    "\n",
    "# Inspect the dataset\n",
    "print(data.head())\n",
    "\n",
    "# Assuming the last column is the target and the rest are features\n",
    "X = data.iloc[:, :-1]  # Features\n",
    "y = data.iloc[:, -1]   # Target\n",
    "\n",
    "# Split the data into training and test sets (80% train, 20% test)\n",
    "X_train, X_test, y_train, y_test = train_test_split(X, y, test_size=0.2, random_state=42)\n",
    "\n",
    "# Normalize the data\n",
    "scaler = StandardScaler()\n",
    "X_train = scaler.fit_transform(X_train)\n",
    "X_test = scaler.transform(X_test)\n",
    "\n",
    "# Initialize the SVM classifier\n",
    "svm_classifier = SVC(kernel='rbf', C=1, gamma='scale')\n",
    "\n",
    "# Train the classifier\n",
    "svm_classifier.fit(X_train, y_train)\n",
    "\n",
    "# Make predictions on the test set\n",
    "y_pred = svm_classifier.predict(X_test)\n",
    "\n",
    "# Evaluate the classifier\n",
    "accuracy = accuracy_score(y_test, y_pred)\n",
    "print(f'Accuracy: {accuracy * 100:.2f}%')\n",
    "\n",
    "# Detailed classification report\n",
    "print(\"Classification Report:\")\n",
    "print(classification_report(y_test, y_pred))\n",
    "\n",
    "# Confusion matrix\n",
    "print(\"Confusion Matrix:\")\n",
    "print(confusion_matrix(y_test, y_pred))"
   ]
  }
 ],
 "metadata": {
  "kernelspec": {
   "display_name": "Python 3 (ipykernel)",
   "language": "python",
   "name": "python3"
  },
  "language_info": {
   "codemirror_mode": {
    "name": "ipython",
    "version": 3
   },
   "file_extension": ".py",
   "mimetype": "text/x-python",
   "name": "python",
   "nbconvert_exporter": "python",
   "pygments_lexer": "ipython3",
   "version": "3.11.5"
  }
 },
 "nbformat": 4,
 "nbformat_minor": 5
}
